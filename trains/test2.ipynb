{
 "metadata": {
  "language_info": {
   "codemirror_mode": {
    "name": "ipython",
    "version": 3
   },
   "file_extension": ".py",
   "mimetype": "text/x-python",
   "name": "python",
   "nbconvert_exporter": "python",
   "pygments_lexer": "ipython3",
   "version": "3.8.5-final"
  },
  "orig_nbformat": 2,
  "kernelspec": {
   "name": "python3",
   "display_name": "Python 3.8.5 64-bit ('base': conda)",
   "metadata": {
    "interpreter": {
     "hash": "8b483ac54575cec30d60df9810492961c6f91b60b02a04a33aa54b36f3c6b519"
    }
   }
  }
 },
 "nbformat": 4,
 "nbformat_minor": 2,
 "cells": [
  {
   "cell_type": "code",
   "execution_count": 1,
   "metadata": {},
   "outputs": [],
   "source": [
    "import json"
   ]
  },
  {
   "cell_type": "code",
   "execution_count": 9,
   "metadata": {},
   "outputs": [
    {
     "output_type": "stream",
     "name": "stdout",
     "text": [
      "{'namen': 'S1', 'stations': ['Oranienburg', 'Lehnitz', 'Borgsdorf', 'Birkenwerder', 'Hohen Neuendorf', 'Frohnau', 'Hermsdorf', 'Waidmannslust', 'Wittenau', 'Wilhelmsruh', 'Schönholz', 'Wollankstraße', 'Bornholmer Straße', 'Gesundbrunnen', 'Humboldthain', 'Nordbahnhof', 'Oranienburger Straße', 'Friedrichstraße', 'Brandenburger Tor', 'Potsdamer Platz', 'Anhalter Bahnhof', 'Yorckstraße', 'Schöneberg', 'Friedenau', 'Feuerbachstraße', 'Rathaus Steglitz', 'Botanischer Garten', 'Lichterfelde West', 'Sundgauer Straße', 'Zehlendorf', 'Mexikoplatz', 'Schlachtensee', 'Nikolassee', 'Wannsee'], 'ring': False}\nS1\n"
     ]
    }
   ],
   "source": [
    "\n",
    "with open(\"./test.json\",\"r\") as data:\n",
    "    blub = json.load(data)\n",
    "    print(blub) \n",
    "    print(blub[\"namen\"])   \n",
    "\n"
   ]
  },
  {
   "cell_type": "code",
   "execution_count": null,
   "metadata": {},
   "outputs": [],
   "source": []
  }
 ]
}